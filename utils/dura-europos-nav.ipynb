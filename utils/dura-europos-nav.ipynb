{
 "cells": [
  {
   "cell_type": "code",
   "execution_count": 6,
   "metadata": {},
   "outputs": [],
   "source": [
    "import pandas as pd\n",
    "import numpy as np"
   ]
  },
  {
   "cell_type": "code",
   "execution_count": 7,
   "metadata": {},
   "outputs": [],
   "source": [
    "df = pd.read_csv('/Users/dc987/ydea/src/assets/csv/master.csv')"
   ]
  },
  {
   "cell_type": "markdown",
   "metadata": {},
   "source": [
    "### Nav"
   ]
  },
  {
   "cell_type": "code",
   "execution_count": 8,
   "metadata": {},
   "outputs": [
    {
     "data": {
      "text/plain": [
       "Index(['id', 'name', 'link', 'img_link', 'location', 'type', 'date',\n",
       "       'creation_site', 'details', 'accession', 'photographer',\n",
       "       'negative_number', 'repository', 'condition_of_photo', 'details2',\n",
       "       'image_source', 'image_type', 'language', 'localpath', 'imgexists',\n",
       "       'cluster', 'imgpath'],\n",
       "      dtype='object')"
      ]
     },
     "execution_count": 8,
     "metadata": {},
     "output_type": "execute_result"
    }
   ],
   "source": [
    "df.columns"
   ]
  },
  {
   "cell_type": "code",
   "execution_count": 9,
   "metadata": {},
   "outputs": [],
   "source": [
    "navcols = [\n",
    "    'cluster',\n",
    "    'location',\n",
    "    'date',\n",
    "    'image_source',\n",
    "    'creation_site',\n",
    "    'image_type',\n",
    "    'language',\n",
    "    'type',\n",
    "    'photographer',\n",
    "    'repository'\n",
    "]"
   ]
  },
  {
   "cell_type": "code",
   "execution_count": 14,
   "metadata": {},
   "outputs": [],
   "source": [
    "jsonArray = []\n",
    "counter=-1\n",
    "for navcol in navcols:\n",
    "    tmp = df[navcol].value_counts()\n",
    "    tmp = tmp[tmp>20]\n",
    "    tmp = tmp[tmp<=1000]\n",
    "    \n",
    "    for idx in tmp.index:\n",
    "        counter+=1\n",
    "        o = {}\n",
    "        o['buttonlabel'] = navcol+':'+' '+str(idx)\n",
    "        o['col'] = navcol\n",
    "        o['val'] = idx\n",
    "        o['idx'] = counter\n",
    "        \n",
    "        jsonArray.append(o)"
   ]
  },
  {
   "cell_type": "code",
   "execution_count": 17,
   "metadata": {},
   "outputs": [],
   "source": [
    "jsonArray = sorted(jsonArray, key = lambda i: i['buttonlabel'])"
   ]
  },
  {
   "cell_type": "code",
   "execution_count": 18,
   "metadata": {},
   "outputs": [],
   "source": [
    "JSONDIR = '/Users/dc987/ydea/src/assets/json/'"
   ]
  },
  {
   "cell_type": "code",
   "execution_count": 19,
   "metadata": {},
   "outputs": [],
   "source": [
    "import json"
   ]
  },
  {
   "cell_type": "code",
   "execution_count": 20,
   "metadata": {},
   "outputs": [],
   "source": [
    "with open(JSONDIR+'nav.json','w') as outfile:\n",
    "    json.dump(jsonArray,outfile)"
   ]
  }
 ],
 "metadata": {
  "kernelspec": {
   "display_name": "Python 3",
   "language": "python",
   "name": "python3"
  },
  "language_info": {
   "codemirror_mode": {
    "name": "ipython",
    "version": 3
   },
   "file_extension": ".py",
   "mimetype": "text/x-python",
   "name": "python",
   "nbconvert_exporter": "python",
   "pygments_lexer": "ipython3",
   "version": "3.6.5"
  }
 },
 "nbformat": 4,
 "nbformat_minor": 2
}
