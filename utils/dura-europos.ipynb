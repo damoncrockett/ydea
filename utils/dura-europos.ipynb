{
 "cells": [
  {
   "cell_type": "code",
   "execution_count": 1,
   "metadata": {},
   "outputs": [
    {
     "name": "stderr",
     "output_type": "stream",
     "text": [
      "Using TensorFlow backend.\n"
     ]
    }
   ],
   "source": [
    "import pandas as pd\n",
    "import numpy as np\n",
    "import sys\n",
    "sys.path.append('/Users/dc987/ivpy/src/')\n",
    "from ivpy import *\n",
    "from ivpy.extract import extract\n",
    "from ivpy.cluster import cluster\n",
    "from ivpy.reduce import pca,tsne,umap"
   ]
  },
  {
   "cell_type": "code",
   "execution_count": 2,
   "metadata": {},
   "outputs": [],
   "source": [
    "df = pd.read_csv('/Users/dc987/ydea/src/assets/csv/assets_final - Sheet2 (1).csv')"
   ]
  },
  {
   "cell_type": "code",
   "execution_count": 3,
   "metadata": {},
   "outputs": [],
   "source": [
    "import glob,os"
   ]
  },
  {
   "cell_type": "code",
   "execution_count": 4,
   "metadata": {},
   "outputs": [],
   "source": [
    "IMG = '/Users/dc987/ydea/src/assets/json/images/'"
   ]
  },
  {
   "cell_type": "code",
   "execution_count": 5,
   "metadata": {},
   "outputs": [],
   "source": [
    "df['localpath'] = [IMG + str(item) + '.jpg' for item in df['id']] "
   ]
  },
  {
   "cell_type": "code",
   "execution_count": 6,
   "metadata": {},
   "outputs": [],
   "source": [
    "from PIL import Image"
   ]
  },
  {
   "cell_type": "code",
   "execution_count": 7,
   "metadata": {},
   "outputs": [],
   "source": [
    "openable = []\n",
    "for localpath in df.localpath:\n",
    "    try:\n",
    "        Image.open(localpath)\n",
    "        openable.append(1)\n",
    "    except:\n",
    "        openable.append(0)"
   ]
  },
  {
   "cell_type": "code",
   "execution_count": 8,
   "metadata": {},
   "outputs": [],
   "source": [
    "df['imgexists'] = openable "
   ]
  },
  {
   "cell_type": "code",
   "execution_count": 9,
   "metadata": {},
   "outputs": [
    {
     "data": {
      "text/plain": [
       "1    15030\n",
       "Name: imgexists, dtype: int64"
      ]
     },
     "execution_count": 9,
     "metadata": {},
     "output_type": "execute_result"
    }
   ],
   "source": [
    "df.imgexists.value_counts()"
   ]
  },
  {
   "cell_type": "code",
   "execution_count": 10,
   "metadata": {},
   "outputs": [],
   "source": [
    "attach(df,'localpath')"
   ]
  },
  {
   "cell_type": "code",
   "execution_count": 11,
   "metadata": {},
   "outputs": [],
   "source": [
    "#X = extract('neural')"
   ]
  },
  {
   "cell_type": "code",
   "execution_count": 12,
   "metadata": {},
   "outputs": [],
   "source": [
    "#X.to_csv('XduraEuropos.csv',index=False)"
   ]
  },
  {
   "cell_type": "code",
   "execution_count": 13,
   "metadata": {},
   "outputs": [],
   "source": [
    "X = pd.read_csv('/Users/dc987/ydea/src/assets/csv/XduraEuropos.csv')"
   ]
  },
  {
   "cell_type": "code",
   "execution_count": 14,
   "metadata": {},
   "outputs": [
    {
     "data": {
      "text/plain": [
       "Index(['id', 'name', 'link', 'img_link', 'location', 'type', 'date',\n",
       "       'creation_site', 'details', 'accession', 'photographer',\n",
       "       'negative_number', 'repository', 'condition_of_photo', 'details2',\n",
       "       'image_source', 'image_type', 'language', 'localpath', 'imgexists'],\n",
       "      dtype='object')"
      ]
     },
     "execution_count": 14,
     "metadata": {},
     "output_type": "execute_result"
    }
   ],
   "source": [
    "df.columns"
   ]
  },
  {
   "cell_type": "code",
   "execution_count": 15,
   "metadata": {},
   "outputs": [
    {
     "name": "stdout",
     "output_type": "stream",
     "text": [
      "method: kmeans \n",
      "number of clusters: 32\n"
     ]
    }
   ],
   "source": [
    "df['cluster'] = cluster(X,k=32) "
   ]
  },
  {
   "cell_type": "code",
   "execution_count": 16,
   "metadata": {},
   "outputs": [],
   "source": [
    "#for clusternum in df.cluster.unique():\n",
    "#    tmp = df[df.cluster==clusternum]\n",
    "#    montage(pathcol=tmp.localpath,thumb=256,notecol=tmp['id']).save('/Users/dc987/Desktop/DEclusters/'+str(clusternum)+'.jpg')"
   ]
  },
  {
   "cell_type": "code",
   "execution_count": 19,
   "metadata": {},
   "outputs": [],
   "source": [
    "df['imgpath'] = ['/'.join(item.split('/')[7:]) for item in df.localpath]"
   ]
  },
  {
   "cell_type": "code",
   "execution_count": 20,
   "metadata": {},
   "outputs": [],
   "source": [
    "df.to_csv('/Users/dc987/ydea/src/assets/csv/master.csv',index=False)"
   ]
  },
  {
   "cell_type": "markdown",
   "metadata": {},
   "source": [
    "## Data"
   ]
  },
  {
   "cell_type": "code",
   "execution_count": 25,
   "metadata": {},
   "outputs": [],
   "source": [
    "import json"
   ]
  },
  {
   "cell_type": "code",
   "execution_count": 24,
   "metadata": {},
   "outputs": [],
   "source": [
    "JSONDIR = '/Users/dc987/ydea/src/assets/json/'"
   ]
  },
  {
   "cell_type": "code",
   "execution_count": 27,
   "metadata": {},
   "outputs": [],
   "source": [
    "datacols = [\n",
    "    'id',\n",
    "    'name',\n",
    "    'link',\n",
    "    'accession',\n",
    "    'imgpath',\n",
    "    'cluster',\n",
    "    'location',\n",
    "    'date',\n",
    "    'image_source',\n",
    "    'creation_site',\n",
    "    'image_type',\n",
    "    'language',\n",
    "    'type',\n",
    "    'photographer',\n",
    "    'repository'\n",
    "]"
   ]
  },
  {
   "cell_type": "code",
   "execution_count": 28,
   "metadata": {},
   "outputs": [],
   "source": [
    "tmp = df[datacols]"
   ]
  },
  {
   "cell_type": "code",
   "execution_count": 29,
   "metadata": {},
   "outputs": [],
   "source": [
    "tmp = tmp.fillna('')"
   ]
  },
  {
   "cell_type": "code",
   "execution_count": 30,
   "metadata": {},
   "outputs": [],
   "source": [
    "dataArray = []\n",
    "for i in tmp.index:\n",
    "    o = {}\n",
    "    for col in datacols:\n",
    "        if col in ['id','cluster']:\n",
    "            o[col] = int(tmp[col].loc[i])\n",
    "        else:\n",
    "            o[col] = tmp[col].loc[i]\n",
    "            \n",
    "    dataArray.append(o)"
   ]
  },
  {
   "cell_type": "code",
   "execution_count": 31,
   "metadata": {},
   "outputs": [],
   "source": [
    "with open(JSONDIR+'ydea.json','w') as outfile:\n",
    "    json.dump(dataArray,outfile)"
   ]
  }
 ],
 "metadata": {
  "kernelspec": {
   "display_name": "Python 3",
   "language": "python",
   "name": "python3"
  },
  "language_info": {
   "codemirror_mode": {
    "name": "ipython",
    "version": 3
   },
   "file_extension": ".py",
   "mimetype": "text/x-python",
   "name": "python",
   "nbconvert_exporter": "python",
   "pygments_lexer": "ipython3",
   "version": "3.6.5"
  }
 },
 "nbformat": 4,
 "nbformat_minor": 2
}
